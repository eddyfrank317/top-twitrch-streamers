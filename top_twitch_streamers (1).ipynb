{
  "nbformat": 4,
  "nbformat_minor": 0,
  "metadata": {
    "colab": {
      "provenance": []
    },
    "kernelspec": {
      "name": "python3",
      "display_name": "Python 3"
    },
    "language_info": {
      "name": "python"
    }
  },
  "cells": [
    {
      "cell_type": "markdown",
      "source": [
        "## Install MySQL Python Client"
      ],
      "metadata": {
        "id": "CE-O8EcUkudA"
      }
    },
    {
      "cell_type": "code",
      "execution_count": 1,
      "metadata": {
        "colab": {
          "base_uri": "https://localhost:8080/"
        },
        "id": "aMpukl_aPKWB",
        "outputId": "e849a5ea-d6b6-4326-d7b1-93ded393a83b"
      },
      "outputs": [
        {
          "output_type": "stream",
          "name": "stdout",
          "text": [
            "Collecting mysql\n",
            "  Downloading mysql-0.0.3-py3-none-any.whl (1.2 kB)\n",
            "Collecting mysqlclient (from mysql)\n",
            "  Downloading mysqlclient-2.2.0.tar.gz (89 kB)\n",
            "\u001b[2K     \u001b[90m━━━━━━━━━━━━━━━━━━━━━━━━━━━━━━━━━━━━━━━━\u001b[0m \u001b[32m89.5/89.5 kB\u001b[0m \u001b[31m2.2 MB/s\u001b[0m eta \u001b[36m0:00:00\u001b[0m\n",
            "\u001b[?25h  Installing build dependencies ... \u001b[?25l\u001b[?25hdone\n",
            "  Getting requirements to build wheel ... \u001b[?25l\u001b[?25hdone\n",
            "  Installing backend dependencies ... \u001b[?25l\u001b[?25hdone\n",
            "  Preparing metadata (pyproject.toml) ... \u001b[?25l\u001b[?25hdone\n",
            "Building wheels for collected packages: mysqlclient\n",
            "  Building wheel for mysqlclient (pyproject.toml) ... \u001b[?25l\u001b[?25hdone\n",
            "  Created wheel for mysqlclient: filename=mysqlclient-2.2.0-cp310-cp310-linux_x86_64.whl size=123670 sha256=67bcbf87c248b8d28b32fddaa16d3cb4b0430aa5bad48f5cd5e6263dd6e7cdff\n",
            "  Stored in directory: /root/.cache/pip/wheels/a4/f8/fd/0399687c0abd03c10c975ed56c692fcd3d0fb80440b5a661f1\n",
            "Successfully built mysqlclient\n",
            "Installing collected packages: mysqlclient, mysql\n",
            "Successfully installed mysql-0.0.3 mysqlclient-2.2.0\n"
          ]
        }
      ],
      "source": [
        "!pip install mysql"
      ]
    },
    {
      "cell_type": "code",
      "source": [
        "%load_ext sql"
      ],
      "metadata": {
        "id": "NGh1pVoDQTe2"
      },
      "execution_count": 2,
      "outputs": []
    },
    {
      "cell_type": "markdown",
      "source": [
        "# 1. Database Connection\n",
        "## Use the following command to connect to SQLite database:"
      ],
      "metadata": {
        "id": "fr_TX1oHlIJz"
      }
    },
    {
      "cell_type": "code",
      "source": [
        "%%sql\n",
        "sqlite:///top_twitch_streamers.db"
      ],
      "metadata": {
        "id": "VsLFvVOmQa8z"
      },
      "execution_count": 3,
      "outputs": []
    },
    {
      "cell_type": "markdown",
      "source": [
        "# 2. Table Creation\n",
        "## Create tables in SQLite database to structure data. Here's an example of creating tables:"
      ],
      "metadata": {
        "id": "-xfrqKdElYTa"
      }
    },
    {
      "cell_type": "markdown",
      "source": [
        "# 2.1. Create 'streamers_info_table'"
      ],
      "metadata": {
        "id": "ZWyQkUKxltyV"
      }
    },
    {
      "cell_type": "code",
      "source": [
        "%%sql\n",
        "\n",
        "CREATE TABLE streamers_info_table (\n",
        "  Channel VARCHAR(225) NOT NULL PRIMARY KEY,\n",
        "  Partnered BOOLEAN,\n",
        "  Mature BOOLEAN,\n",
        "  Language VARCHAR(225)\n",
        ");\n"
      ],
      "metadata": {
        "colab": {
          "base_uri": "https://localhost:8080/"
        },
        "id": "FuFhpvLvSIPj",
        "outputId": "b60a0aa9-9d35-4d71-9a30-7b06f6bee9e7"
      },
      "execution_count": 4,
      "outputs": [
        {
          "output_type": "stream",
          "name": "stdout",
          "text": [
            " * sqlite:///top_twitch_streamers.db\n",
            "Done.\n"
          ]
        },
        {
          "output_type": "execute_result",
          "data": {
            "text/plain": [
              "[]"
            ]
          },
          "metadata": {},
          "execution_count": 4
        }
      ]
    },
    {
      "cell_type": "markdown",
      "source": [
        "# 2.2. Create 'Stream_metrics_table'"
      ],
      "metadata": {
        "id": "4viD99RwmjdS"
      }
    },
    {
      "cell_type": "code",
      "source": [
        "%%sql\n",
        "\n",
        "CREATE TABLE Stream_metrics_table(\n",
        "  WatchTimeMinutes VARCHAR(225),\n",
        "  StreamTimeMinutes VARCHAR(225),\n",
        "  Channel VARCHAR(225),\n",
        "  FOREIGN KEY (Channel) REFERENCES streamers_info_table(Channel)\n",
        ");\n"
      ],
      "metadata": {
        "colab": {
          "base_uri": "https://localhost:8080/"
        },
        "id": "8NCi3WUTUzTC",
        "outputId": "a592b040-dd0e-4a82-ca93-9d09c42dfb4c"
      },
      "execution_count": 5,
      "outputs": [
        {
          "output_type": "stream",
          "name": "stdout",
          "text": [
            " * sqlite:///top_twitch_streamers.db\n",
            "Done.\n"
          ]
        },
        {
          "output_type": "execute_result",
          "data": {
            "text/plain": [
              "[]"
            ]
          },
          "metadata": {},
          "execution_count": 5
        }
      ]
    },
    {
      "cell_type": "markdown",
      "source": [
        "# 2.3. Create 'Viewer_metric_table'"
      ],
      "metadata": {
        "id": "bnc9i-vEmsGg"
      }
    },
    {
      "cell_type": "code",
      "source": [
        "%%sql\n",
        "\n",
        "CREATE TABLE Viewer_metric_table(\n",
        "  Channel VARCHAR(225),\n",
        "  PeakViewers INT,\n",
        "  AvarageViewers INT,\n",
        "  Followers INT,\n",
        "  FollowersGained INT,\n",
        "  ViewedGained INT,\n",
        "  FOREIGN KEY (Channel) REFERENCES  streamers_info_table(Channel)\n",
        ")"
      ],
      "metadata": {
        "colab": {
          "base_uri": "https://localhost:8080/"
        },
        "id": "bqLUM8WyYns_",
        "outputId": "ce1f7546-8ab4-45dc-c11e-522822d61e8e"
      },
      "execution_count": 6,
      "outputs": [
        {
          "output_type": "stream",
          "name": "stdout",
          "text": [
            " * sqlite:///top_twitch_streamers.db\n",
            "Done.\n"
          ]
        },
        {
          "output_type": "execute_result",
          "data": {
            "text/plain": [
              "[]"
            ]
          },
          "metadata": {},
          "execution_count": 6
        }
      ]
    },
    {
      "cell_type": "markdown",
      "source": [
        "# Using pandas library to view .CSV file\n",
        "\n",
        "1.   List item\n",
        "2.   List item\n",
        "\n"
      ],
      "metadata": {
        "id": "HSemj7BzniAn"
      }
    },
    {
      "cell_type": "code",
      "source": [
        "import sqlite3\n",
        "import pandas as pd\n",
        "\n"
      ],
      "metadata": {
        "id": "5JKYfX0rbs17"
      },
      "execution_count": 7,
      "outputs": []
    },
    {
      "cell_type": "code",
      "source": [
        "df_csv= pd.read_csv(r'/content/twitchdata-update.csv')"
      ],
      "metadata": {
        "id": "vTwO6nJcVoj7"
      },
      "execution_count": 11,
      "outputs": []
    },
    {
      "cell_type": "code",
      "source": [
        "df_csv.head()"
      ],
      "metadata": {
        "colab": {
          "base_uri": "https://localhost:8080/",
          "height": 223
        },
        "id": "cpteBdNtiRyt",
        "outputId": "626184be-4f10-4994-8520-51cf154a291e"
      },
      "execution_count": 12,
      "outputs": [
        {
          "output_type": "execute_result",
          "data": {
            "text/plain": [
              "    Channel  Watch time(Minutes)  Stream time(minutes)  Peak viewers  \\\n",
              "0     xQcOW           6196161750                215250        222720   \n",
              "1  summit1g           6091677300                211845        310998   \n",
              "2    Gaules           5644590915                515280        387315   \n",
              "3  ESL_CSGO           3970318140                517740        300575   \n",
              "4      Tfue           3671000070                123660        285644   \n",
              "\n",
              "   Average viewers  Followers  Followers gained  Views gained  Partnered  \\\n",
              "0            27716    3246298           1734810      93036735       True   \n",
              "1            25610    5310163           1370184      89705964       True   \n",
              "2            10976    1767635           1023779     102611607       True   \n",
              "3             7714    3944850            703986     106546942       True   \n",
              "4            29602    8938903           2068424      78998587       True   \n",
              "\n",
              "   Mature    Language  \n",
              "0   False     English  \n",
              "1   False     English  \n",
              "2    True  Portuguese  \n",
              "3   False     English  \n",
              "4   False     English  "
            ],
            "text/html": [
              "\n",
              "  <div id=\"df-9c80860c-2513-49f3-86a7-29d4c3e026c2\" class=\"colab-df-container\">\n",
              "    <div>\n",
              "<style scoped>\n",
              "    .dataframe tbody tr th:only-of-type {\n",
              "        vertical-align: middle;\n",
              "    }\n",
              "\n",
              "    .dataframe tbody tr th {\n",
              "        vertical-align: top;\n",
              "    }\n",
              "\n",
              "    .dataframe thead th {\n",
              "        text-align: right;\n",
              "    }\n",
              "</style>\n",
              "<table border=\"1\" class=\"dataframe\">\n",
              "  <thead>\n",
              "    <tr style=\"text-align: right;\">\n",
              "      <th></th>\n",
              "      <th>Channel</th>\n",
              "      <th>Watch time(Minutes)</th>\n",
              "      <th>Stream time(minutes)</th>\n",
              "      <th>Peak viewers</th>\n",
              "      <th>Average viewers</th>\n",
              "      <th>Followers</th>\n",
              "      <th>Followers gained</th>\n",
              "      <th>Views gained</th>\n",
              "      <th>Partnered</th>\n",
              "      <th>Mature</th>\n",
              "      <th>Language</th>\n",
              "    </tr>\n",
              "  </thead>\n",
              "  <tbody>\n",
              "    <tr>\n",
              "      <th>0</th>\n",
              "      <td>xQcOW</td>\n",
              "      <td>6196161750</td>\n",
              "      <td>215250</td>\n",
              "      <td>222720</td>\n",
              "      <td>27716</td>\n",
              "      <td>3246298</td>\n",
              "      <td>1734810</td>\n",
              "      <td>93036735</td>\n",
              "      <td>True</td>\n",
              "      <td>False</td>\n",
              "      <td>English</td>\n",
              "    </tr>\n",
              "    <tr>\n",
              "      <th>1</th>\n",
              "      <td>summit1g</td>\n",
              "      <td>6091677300</td>\n",
              "      <td>211845</td>\n",
              "      <td>310998</td>\n",
              "      <td>25610</td>\n",
              "      <td>5310163</td>\n",
              "      <td>1370184</td>\n",
              "      <td>89705964</td>\n",
              "      <td>True</td>\n",
              "      <td>False</td>\n",
              "      <td>English</td>\n",
              "    </tr>\n",
              "    <tr>\n",
              "      <th>2</th>\n",
              "      <td>Gaules</td>\n",
              "      <td>5644590915</td>\n",
              "      <td>515280</td>\n",
              "      <td>387315</td>\n",
              "      <td>10976</td>\n",
              "      <td>1767635</td>\n",
              "      <td>1023779</td>\n",
              "      <td>102611607</td>\n",
              "      <td>True</td>\n",
              "      <td>True</td>\n",
              "      <td>Portuguese</td>\n",
              "    </tr>\n",
              "    <tr>\n",
              "      <th>3</th>\n",
              "      <td>ESL_CSGO</td>\n",
              "      <td>3970318140</td>\n",
              "      <td>517740</td>\n",
              "      <td>300575</td>\n",
              "      <td>7714</td>\n",
              "      <td>3944850</td>\n",
              "      <td>703986</td>\n",
              "      <td>106546942</td>\n",
              "      <td>True</td>\n",
              "      <td>False</td>\n",
              "      <td>English</td>\n",
              "    </tr>\n",
              "    <tr>\n",
              "      <th>4</th>\n",
              "      <td>Tfue</td>\n",
              "      <td>3671000070</td>\n",
              "      <td>123660</td>\n",
              "      <td>285644</td>\n",
              "      <td>29602</td>\n",
              "      <td>8938903</td>\n",
              "      <td>2068424</td>\n",
              "      <td>78998587</td>\n",
              "      <td>True</td>\n",
              "      <td>False</td>\n",
              "      <td>English</td>\n",
              "    </tr>\n",
              "  </tbody>\n",
              "</table>\n",
              "</div>\n",
              "    <div class=\"colab-df-buttons\">\n",
              "\n",
              "  <div class=\"colab-df-container\">\n",
              "    <button class=\"colab-df-convert\" onclick=\"convertToInteractive('df-9c80860c-2513-49f3-86a7-29d4c3e026c2')\"\n",
              "            title=\"Convert this dataframe to an interactive table.\"\n",
              "            style=\"display:none;\">\n",
              "\n",
              "  <svg xmlns=\"http://www.w3.org/2000/svg\" height=\"24px\" viewBox=\"0 -960 960 960\">\n",
              "    <path d=\"M120-120v-720h720v720H120Zm60-500h600v-160H180v160Zm220 220h160v-160H400v160Zm0 220h160v-160H400v160ZM180-400h160v-160H180v160Zm440 0h160v-160H620v160ZM180-180h160v-160H180v160Zm440 0h160v-160H620v160Z\"/>\n",
              "  </svg>\n",
              "    </button>\n",
              "\n",
              "  <style>\n",
              "    .colab-df-container {\n",
              "      display:flex;\n",
              "      gap: 12px;\n",
              "    }\n",
              "\n",
              "    .colab-df-convert {\n",
              "      background-color: #E8F0FE;\n",
              "      border: none;\n",
              "      border-radius: 50%;\n",
              "      cursor: pointer;\n",
              "      display: none;\n",
              "      fill: #1967D2;\n",
              "      height: 32px;\n",
              "      padding: 0 0 0 0;\n",
              "      width: 32px;\n",
              "    }\n",
              "\n",
              "    .colab-df-convert:hover {\n",
              "      background-color: #E2EBFA;\n",
              "      box-shadow: 0px 1px 2px rgba(60, 64, 67, 0.3), 0px 1px 3px 1px rgba(60, 64, 67, 0.15);\n",
              "      fill: #174EA6;\n",
              "    }\n",
              "\n",
              "    .colab-df-buttons div {\n",
              "      margin-bottom: 4px;\n",
              "    }\n",
              "\n",
              "    [theme=dark] .colab-df-convert {\n",
              "      background-color: #3B4455;\n",
              "      fill: #D2E3FC;\n",
              "    }\n",
              "\n",
              "    [theme=dark] .colab-df-convert:hover {\n",
              "      background-color: #434B5C;\n",
              "      box-shadow: 0px 1px 3px 1px rgba(0, 0, 0, 0.15);\n",
              "      filter: drop-shadow(0px 1px 2px rgba(0, 0, 0, 0.3));\n",
              "      fill: #FFFFFF;\n",
              "    }\n",
              "  </style>\n",
              "\n",
              "    <script>\n",
              "      const buttonEl =\n",
              "        document.querySelector('#df-9c80860c-2513-49f3-86a7-29d4c3e026c2 button.colab-df-convert');\n",
              "      buttonEl.style.display =\n",
              "        google.colab.kernel.accessAllowed ? 'block' : 'none';\n",
              "\n",
              "      async function convertToInteractive(key) {\n",
              "        const element = document.querySelector('#df-9c80860c-2513-49f3-86a7-29d4c3e026c2');\n",
              "        const dataTable =\n",
              "          await google.colab.kernel.invokeFunction('convertToInteractive',\n",
              "                                                    [key], {});\n",
              "        if (!dataTable) return;\n",
              "\n",
              "        const docLinkHtml = 'Like what you see? Visit the ' +\n",
              "          '<a target=\"_blank\" href=https://colab.research.google.com/notebooks/data_table.ipynb>data table notebook</a>'\n",
              "          + ' to learn more about interactive tables.';\n",
              "        element.innerHTML = '';\n",
              "        dataTable['output_type'] = 'display_data';\n",
              "        await google.colab.output.renderOutput(dataTable, element);\n",
              "        const docLink = document.createElement('div');\n",
              "        docLink.innerHTML = docLinkHtml;\n",
              "        element.appendChild(docLink);\n",
              "      }\n",
              "    </script>\n",
              "  </div>\n",
              "\n",
              "\n",
              "<div id=\"df-ab71014b-401b-4e5d-af12-6b57ff7430ed\">\n",
              "  <button class=\"colab-df-quickchart\" onclick=\"quickchart('df-ab71014b-401b-4e5d-af12-6b57ff7430ed')\"\n",
              "            title=\"Suggest charts.\"\n",
              "            style=\"display:none;\">\n",
              "\n",
              "<svg xmlns=\"http://www.w3.org/2000/svg\" height=\"24px\"viewBox=\"0 0 24 24\"\n",
              "     width=\"24px\">\n",
              "    <g>\n",
              "        <path d=\"M19 3H5c-1.1 0-2 .9-2 2v14c0 1.1.9 2 2 2h14c1.1 0 2-.9 2-2V5c0-1.1-.9-2-2-2zM9 17H7v-7h2v7zm4 0h-2V7h2v10zm4 0h-2v-4h2v4z\"/>\n",
              "    </g>\n",
              "</svg>\n",
              "  </button>\n",
              "\n",
              "<style>\n",
              "  .colab-df-quickchart {\n",
              "      --bg-color: #E8F0FE;\n",
              "      --fill-color: #1967D2;\n",
              "      --hover-bg-color: #E2EBFA;\n",
              "      --hover-fill-color: #174EA6;\n",
              "      --disabled-fill-color: #AAA;\n",
              "      --disabled-bg-color: #DDD;\n",
              "  }\n",
              "\n",
              "  [theme=dark] .colab-df-quickchart {\n",
              "      --bg-color: #3B4455;\n",
              "      --fill-color: #D2E3FC;\n",
              "      --hover-bg-color: #434B5C;\n",
              "      --hover-fill-color: #FFFFFF;\n",
              "      --disabled-bg-color: #3B4455;\n",
              "      --disabled-fill-color: #666;\n",
              "  }\n",
              "\n",
              "  .colab-df-quickchart {\n",
              "    background-color: var(--bg-color);\n",
              "    border: none;\n",
              "    border-radius: 50%;\n",
              "    cursor: pointer;\n",
              "    display: none;\n",
              "    fill: var(--fill-color);\n",
              "    height: 32px;\n",
              "    padding: 0;\n",
              "    width: 32px;\n",
              "  }\n",
              "\n",
              "  .colab-df-quickchart:hover {\n",
              "    background-color: var(--hover-bg-color);\n",
              "    box-shadow: 0 1px 2px rgba(60, 64, 67, 0.3), 0 1px 3px 1px rgba(60, 64, 67, 0.15);\n",
              "    fill: var(--button-hover-fill-color);\n",
              "  }\n",
              "\n",
              "  .colab-df-quickchart-complete:disabled,\n",
              "  .colab-df-quickchart-complete:disabled:hover {\n",
              "    background-color: var(--disabled-bg-color);\n",
              "    fill: var(--disabled-fill-color);\n",
              "    box-shadow: none;\n",
              "  }\n",
              "\n",
              "  .colab-df-spinner {\n",
              "    border: 2px solid var(--fill-color);\n",
              "    border-color: transparent;\n",
              "    border-bottom-color: var(--fill-color);\n",
              "    animation:\n",
              "      spin 1s steps(1) infinite;\n",
              "  }\n",
              "\n",
              "  @keyframes spin {\n",
              "    0% {\n",
              "      border-color: transparent;\n",
              "      border-bottom-color: var(--fill-color);\n",
              "      border-left-color: var(--fill-color);\n",
              "    }\n",
              "    20% {\n",
              "      border-color: transparent;\n",
              "      border-left-color: var(--fill-color);\n",
              "      border-top-color: var(--fill-color);\n",
              "    }\n",
              "    30% {\n",
              "      border-color: transparent;\n",
              "      border-left-color: var(--fill-color);\n",
              "      border-top-color: var(--fill-color);\n",
              "      border-right-color: var(--fill-color);\n",
              "    }\n",
              "    40% {\n",
              "      border-color: transparent;\n",
              "      border-right-color: var(--fill-color);\n",
              "      border-top-color: var(--fill-color);\n",
              "    }\n",
              "    60% {\n",
              "      border-color: transparent;\n",
              "      border-right-color: var(--fill-color);\n",
              "    }\n",
              "    80% {\n",
              "      border-color: transparent;\n",
              "      border-right-color: var(--fill-color);\n",
              "      border-bottom-color: var(--fill-color);\n",
              "    }\n",
              "    90% {\n",
              "      border-color: transparent;\n",
              "      border-bottom-color: var(--fill-color);\n",
              "    }\n",
              "  }\n",
              "</style>\n",
              "\n",
              "  <script>\n",
              "    async function quickchart(key) {\n",
              "      const quickchartButtonEl =\n",
              "        document.querySelector('#' + key + ' button');\n",
              "      quickchartButtonEl.disabled = true;  // To prevent multiple clicks.\n",
              "      quickchartButtonEl.classList.add('colab-df-spinner');\n",
              "      try {\n",
              "        const charts = await google.colab.kernel.invokeFunction(\n",
              "            'suggestCharts', [key], {});\n",
              "      } catch (error) {\n",
              "        console.error('Error during call to suggestCharts:', error);\n",
              "      }\n",
              "      quickchartButtonEl.classList.remove('colab-df-spinner');\n",
              "      quickchartButtonEl.classList.add('colab-df-quickchart-complete');\n",
              "    }\n",
              "    (() => {\n",
              "      let quickchartButtonEl =\n",
              "        document.querySelector('#df-ab71014b-401b-4e5d-af12-6b57ff7430ed button');\n",
              "      quickchartButtonEl.style.display =\n",
              "        google.colab.kernel.accessAllowed ? 'block' : 'none';\n",
              "    })();\n",
              "  </script>\n",
              "</div>\n",
              "    </div>\n",
              "  </div>\n"
            ]
          },
          "metadata": {},
          "execution_count": 12
        }
      ]
    },
    {
      "cell_type": "markdown",
      "source": [
        "# 3. Data Insertion\n",
        "## inserting data into the tables using INSERT statements.\n",
        "\n",
        "# 3.1. Insert Data into 'streamers_info_table'"
      ],
      "metadata": {
        "id": "sR4EijUXnAjy"
      }
    },
    {
      "cell_type": "code",
      "source": [
        "%%sql\n",
        "\n",
        "INSERT INTO streamers_info_table (Channel, Partnered, Mature, Language)\n",
        "VALUES ('xQcOW', 'True', 'False', 'English'),\n",
        "       ('summit1g', 'True', 'False', 'English'),\n",
        "       ('Gaules', 'True', 'True', 'Portuguese'),\n",
        "       ('ESL_CSGO', 'True', 'False', 'English'),\n",
        "       ('Tfue', 'True', 'False', 'English');\n"
      ],
      "metadata": {
        "id": "M0QFGAri6Oea",
        "colab": {
          "base_uri": "https://localhost:8080/"
        },
        "outputId": "010b6017-537d-45e8-a6d8-5d72dc41494f"
      },
      "execution_count": 7,
      "outputs": [
        {
          "output_type": "stream",
          "name": "stdout",
          "text": [
            " * sqlite:///top_twitch_streamers.db\n",
            "5 rows affected.\n"
          ]
        },
        {
          "output_type": "execute_result",
          "data": {
            "text/plain": [
              "[]"
            ]
          },
          "metadata": {},
          "execution_count": 7
        }
      ]
    },
    {
      "cell_type": "markdown",
      "source": [
        "# 3.2. Insert Data into 'Stream_metrics_table'"
      ],
      "metadata": {
        "id": "c60lgfKwnUDR"
      }
    },
    {
      "cell_type": "code",
      "source": [
        "%%sql\n",
        "\n",
        "INSERT INTO Stream_metrics_table (WatchTimeMinutes, StreamTimeMinutes, Channel)\n",
        "VALUES ('6196161750', '215250', 'xQcOW'),\n",
        "       ('6091677300', '211845', 'summit1g'),\n",
        "       ('5644590915', '515280', 'Gaules'),\n",
        "       ('3970318140', '517740', 'ESL_CSGO'),\n",
        "       ('3671000070', '123660', 'Tfue');\n"
      ],
      "metadata": {
        "colab": {
          "base_uri": "https://localhost:8080/"
        },
        "id": "dADfltoCjWvq",
        "outputId": "bc6f19ab-0f2a-44d9-ff03-dd5558652317"
      },
      "execution_count": 8,
      "outputs": [
        {
          "output_type": "stream",
          "name": "stdout",
          "text": [
            " * sqlite:///top_twitch_streamers.db\n",
            "5 rows affected.\n"
          ]
        },
        {
          "output_type": "execute_result",
          "data": {
            "text/plain": [
              "[]"
            ]
          },
          "metadata": {},
          "execution_count": 8
        }
      ]
    },
    {
      "cell_type": "markdown",
      "source": [
        "# 3.3. Insert Data into 'Viewer_metric_table'"
      ],
      "metadata": {
        "id": "TdEswGHnnaTF"
      }
    },
    {
      "cell_type": "code",
      "source": [
        "%%sql\n",
        "\n",
        "INSERT INTO Viewer_metric_table (Channel, PeakViewers, AvarageViewers, Followers, FollowersGained, ViewedGained)\n",
        "VALUES ('xQcOW', 222720, 27716, 3246298, 1734810, 93036735),\n",
        "       ('summit1g', 310998, 25610, 5310163, 1370184, 89705964),\n",
        "       ('Gaules', 387315, 10976, 1767635, 1023779, 102611607),\n",
        "       ('ESL_CSGO', 300575, 7714, 3944850, 703986, 106546942),\n",
        "       ('Tfue', 285644, 29602, 8938903, 2068424, 78998587);\n"
      ],
      "metadata": {
        "colab": {
          "base_uri": "https://localhost:8080/"
        },
        "id": "aCg-uKJtjiPM",
        "outputId": "98a7b31a-244b-4578-d5b8-6f1bfcfc6354"
      },
      "execution_count": 9,
      "outputs": [
        {
          "output_type": "stream",
          "name": "stdout",
          "text": [
            " * sqlite:///top_twitch_streamers.db\n",
            "5 rows affected.\n"
          ]
        },
        {
          "output_type": "execute_result",
          "data": {
            "text/plain": [
              "[]"
            ]
          },
          "metadata": {},
          "execution_count": 9
        }
      ]
    },
    {
      "cell_type": "code",
      "source": [
        "%%sql\n",
        "SELECT *\n",
        "FROM streamers_info_table\n",
        "LIMIT 5;"
      ],
      "metadata": {
        "colab": {
          "base_uri": "https://localhost:8080/",
          "height": 178
        },
        "id": "_0xKlbWl6CzN",
        "outputId": "33787770-c421-4263-ddbe-2150fb6f4cb4"
      },
      "execution_count": 10,
      "outputs": [
        {
          "output_type": "stream",
          "name": "stdout",
          "text": [
            " * sqlite:///top_twitch_streamers.db\n",
            "Done.\n"
          ]
        },
        {
          "output_type": "execute_result",
          "data": {
            "text/plain": [
              "[('xQcOW', 'True', 'False', 'English'),\n",
              " ('summit1g', 'True', 'False', 'English'),\n",
              " ('Gaules', 'True', 'True', 'Portuguese'),\n",
              " ('ESL_CSGO', 'True', 'False', 'English'),\n",
              " ('Tfue', 'True', 'False', 'English')]"
            ],
            "text/html": [
              "<table>\n",
              "    <thead>\n",
              "        <tr>\n",
              "            <th>Channel</th>\n",
              "            <th>Partnered</th>\n",
              "            <th>Mature</th>\n",
              "            <th>Language</th>\n",
              "        </tr>\n",
              "    </thead>\n",
              "    <tbody>\n",
              "        <tr>\n",
              "            <td>xQcOW</td>\n",
              "            <td>True</td>\n",
              "            <td>False</td>\n",
              "            <td>English</td>\n",
              "        </tr>\n",
              "        <tr>\n",
              "            <td>summit1g</td>\n",
              "            <td>True</td>\n",
              "            <td>False</td>\n",
              "            <td>English</td>\n",
              "        </tr>\n",
              "        <tr>\n",
              "            <td>Gaules</td>\n",
              "            <td>True</td>\n",
              "            <td>True</td>\n",
              "            <td>Portuguese</td>\n",
              "        </tr>\n",
              "        <tr>\n",
              "            <td>ESL_CSGO</td>\n",
              "            <td>True</td>\n",
              "            <td>False</td>\n",
              "            <td>English</td>\n",
              "        </tr>\n",
              "        <tr>\n",
              "            <td>Tfue</td>\n",
              "            <td>True</td>\n",
              "            <td>False</td>\n",
              "            <td>English</td>\n",
              "        </tr>\n",
              "    </tbody>\n",
              "</table>"
            ]
          },
          "metadata": {},
          "execution_count": 10
        }
      ]
    },
    {
      "cell_type": "code",
      "source": [
        "%%sql\n",
        "SELECT *\n",
        "FROM Stream_metrics_table\n",
        "LIMIT 5;"
      ],
      "metadata": {
        "colab": {
          "base_uri": "https://localhost:8080/",
          "height": 178
        },
        "id": "VPUqR3f9jmt7",
        "outputId": "a40135a8-675d-426c-94da-549a4c9b59b3"
      },
      "execution_count": 11,
      "outputs": [
        {
          "output_type": "stream",
          "name": "stdout",
          "text": [
            " * sqlite:///top_twitch_streamers.db\n",
            "Done.\n"
          ]
        },
        {
          "output_type": "execute_result",
          "data": {
            "text/plain": [
              "[('6196161750', '215250', 'xQcOW'),\n",
              " ('6091677300', '211845', 'summit1g'),\n",
              " ('5644590915', '515280', 'Gaules'),\n",
              " ('3970318140', '517740', 'ESL_CSGO'),\n",
              " ('3671000070', '123660', 'Tfue')]"
            ],
            "text/html": [
              "<table>\n",
              "    <thead>\n",
              "        <tr>\n",
              "            <th>WatchTimeMinutes</th>\n",
              "            <th>StreamTimeMinutes</th>\n",
              "            <th>Channel</th>\n",
              "        </tr>\n",
              "    </thead>\n",
              "    <tbody>\n",
              "        <tr>\n",
              "            <td>6196161750</td>\n",
              "            <td>215250</td>\n",
              "            <td>xQcOW</td>\n",
              "        </tr>\n",
              "        <tr>\n",
              "            <td>6091677300</td>\n",
              "            <td>211845</td>\n",
              "            <td>summit1g</td>\n",
              "        </tr>\n",
              "        <tr>\n",
              "            <td>5644590915</td>\n",
              "            <td>515280</td>\n",
              "            <td>Gaules</td>\n",
              "        </tr>\n",
              "        <tr>\n",
              "            <td>3970318140</td>\n",
              "            <td>517740</td>\n",
              "            <td>ESL_CSGO</td>\n",
              "        </tr>\n",
              "        <tr>\n",
              "            <td>3671000070</td>\n",
              "            <td>123660</td>\n",
              "            <td>Tfue</td>\n",
              "        </tr>\n",
              "    </tbody>\n",
              "</table>"
            ]
          },
          "metadata": {},
          "execution_count": 11
        }
      ]
    },
    {
      "cell_type": "code",
      "source": [
        "%%sql\n",
        "SELECT *\n",
        "FROM Viewer_metric_table\n",
        "LIMIT 5;"
      ],
      "metadata": {
        "colab": {
          "base_uri": "https://localhost:8080/",
          "height": 178
        },
        "id": "g3VNYj2Pj8V9",
        "outputId": "adbf4bfd-3f57-4d11-f3c9-8611d41028b8"
      },
      "execution_count": 12,
      "outputs": [
        {
          "output_type": "stream",
          "name": "stdout",
          "text": [
            " * sqlite:///top_twitch_streamers.db\n",
            "Done.\n"
          ]
        },
        {
          "output_type": "execute_result",
          "data": {
            "text/plain": [
              "[('xQcOW', 222720, 27716, 3246298, 1734810, 93036735),\n",
              " ('summit1g', 310998, 25610, 5310163, 1370184, 89705964),\n",
              " ('Gaules', 387315, 10976, 1767635, 1023779, 102611607),\n",
              " ('ESL_CSGO', 300575, 7714, 3944850, 703986, 106546942),\n",
              " ('Tfue', 285644, 29602, 8938903, 2068424, 78998587)]"
            ],
            "text/html": [
              "<table>\n",
              "    <thead>\n",
              "        <tr>\n",
              "            <th>Channel</th>\n",
              "            <th>PeakViewers</th>\n",
              "            <th>AvarageViewers</th>\n",
              "            <th>Followers</th>\n",
              "            <th>FollowersGained</th>\n",
              "            <th>ViewedGained</th>\n",
              "        </tr>\n",
              "    </thead>\n",
              "    <tbody>\n",
              "        <tr>\n",
              "            <td>xQcOW</td>\n",
              "            <td>222720</td>\n",
              "            <td>27716</td>\n",
              "            <td>3246298</td>\n",
              "            <td>1734810</td>\n",
              "            <td>93036735</td>\n",
              "        </tr>\n",
              "        <tr>\n",
              "            <td>summit1g</td>\n",
              "            <td>310998</td>\n",
              "            <td>25610</td>\n",
              "            <td>5310163</td>\n",
              "            <td>1370184</td>\n",
              "            <td>89705964</td>\n",
              "        </tr>\n",
              "        <tr>\n",
              "            <td>Gaules</td>\n",
              "            <td>387315</td>\n",
              "            <td>10976</td>\n",
              "            <td>1767635</td>\n",
              "            <td>1023779</td>\n",
              "            <td>102611607</td>\n",
              "        </tr>\n",
              "        <tr>\n",
              "            <td>ESL_CSGO</td>\n",
              "            <td>300575</td>\n",
              "            <td>7714</td>\n",
              "            <td>3944850</td>\n",
              "            <td>703986</td>\n",
              "            <td>106546942</td>\n",
              "        </tr>\n",
              "        <tr>\n",
              "            <td>Tfue</td>\n",
              "            <td>285644</td>\n",
              "            <td>29602</td>\n",
              "            <td>8938903</td>\n",
              "            <td>2068424</td>\n",
              "            <td>78998587</td>\n",
              "        </tr>\n",
              "    </tbody>\n",
              "</table>"
            ]
          },
          "metadata": {},
          "execution_count": 12
        }
      ]
    },
    {
      "cell_type": "code",
      "source": [],
      "metadata": {
        "id": "Tu6ggj9siBIF"
      },
      "execution_count": null,
      "outputs": []
    }
  ]
}